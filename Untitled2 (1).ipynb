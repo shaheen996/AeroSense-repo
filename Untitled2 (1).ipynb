{
  "cells": [
    {
      "cell_type": "code",
      "execution_count": null,
      "metadata": {
        "colab": {
          "base_uri": "https://localhost:8080/"
        },
        "id": "8vEEhA3VHKU1",
        "outputId": "33ad90ae-4abe-479b-9be2-f35663393bab"
      },
      "outputs": [
        {
          "name": "stdout",
          "output_type": "stream",
          "text": [
            "Requirement already satisfied: requests in /usr/local/lib/python3.12/dist-packages (2.32.4)\n",
            "Requirement already satisfied: charset_normalizer<4,>=2 in /usr/local/lib/python3.12/dist-packages (from requests) (3.4.3)\n",
            "Requirement already satisfied: idna<4,>=2.5 in /usr/local/lib/python3.12/dist-packages (from requests) (3.10)\n",
            "Requirement already satisfied: urllib3<3,>=1.21.1 in /usr/local/lib/python3.12/dist-packages (from requests) (2.5.0)\n",
            "Requirement already satisfied: certifi>=2017.4.17 in /usr/local/lib/python3.12/dist-packages (from requests) (2025.8.3)\n"
          ]
        }
      ],
      "source": [
        "!pip install requests\n"
      ]
    },
    {
      "cell_type": "code",
      "execution_count": null,
      "metadata": {
        "colab": {
          "base_uri": "https://localhost:8080/"
        },
        "id": "cJmNC8U2T7ti",
        "outputId": "04e3b8fb-1e96-442b-c067-35f69d3ae720"
      },
      "outputs": [
        {
          "name": "stdout",
          "output_type": "stream",
          "text": [
            "Generated 5000 mock AQI rows!\n"
          ]
        }
      ],
      "source": [
        "import json\n",
        "import random\n",
        "\n",
        "cities = [\n",
        "    (\"Los Angeles\", 34.0522, -118.2437),\n",
        "    (\"New York\", 40.7128, -74.0060),\n",
        "    (\"Toronto\", 43.6532, -79.3832),\n",
        "    (\"Chicago\", 41.8781, -87.6298),\n",
        "    (\"Houston\", 29.7604, -95.3698),\n",
        "    # Add more cities up to 50\n",
        "]\n",
        "\n",
        "num_rows = 5000\n",
        "mock_data = []\n",
        "\n",
        "for _ in range(num_rows):\n",
        "    city, lat, lon = random.choice(cities)\n",
        "    lat_noise = lat + random.uniform(-0.05, 0.05)\n",
        "    lon_noise = lon + random.uniform(-0.05, 0.05)\n",
        "    pm25 = random.gauss(50, 25)  # Gaussian distribution\n",
        "    pm25 = max(0, min(150, pm25))\n",
        "    no2 = random.gauss(30, 15)\n",
        "    no2 = max(0, min(100, no2))\n",
        "    o3 = random.gauss(40, 20)\n",
        "    o3 = max(0, min(120, o3))\n",
        "    temperature = random.gauss(20, 10)\n",
        "    humidity = random.randint(10, 100)\n",
        "    wind_speed = random.uniform(0, 15)\n",
        "\n",
        "    # Simple AQI calculation for synthetic data\n",
        "    aqi = int(0.5*pm25 + 0.3*no2 + 0.2*o3)\n",
        "    forecast = [\n",
        "        max(0, min(300, aqi + random.randint(-10, 10))) for _ in range(3)\n",
        "    ]\n",
        "\n",
        "    mock_data.append({\n",
        "        \"city\": city,\n",
        "        \"lat\": round(lat_noise, 4),\n",
        "        \"lon\": round(lon_noise, 4),\n",
        "        \"measurements\": {\"PM2.5\": round(pm25,1), \"NO2\": round(no2,1), \"O3\": round(o3,1)},\n",
        "        \"weather\": {\"temperature\": round(temperature,1), \"humidity\": humidity, \"wind_speed\": round(wind_speed,1)},\n",
        "        \"aqi\": aqi,\n",
        "        \"aqi_forecast\": forecast\n",
        "    })\n",
        "\n",
        "with open(\"mock_aqi_large.json\", \"w\") as f:\n",
        "    json.dump(mock_data, f)\n",
        "\n",
        "print(f\"Generated {len(mock_data)} mock AQI rows!\")\n"
      ]
    },
    {
      "cell_type": "code",
      "execution_count": null,
      "metadata": {
        "colab": {
          "base_uri": "https://localhost:8080/"
        },
        "id": "O6dTYghBUDbS",
        "outputId": "45755656-e20d-4b77-b882-3bbdf0c0984b"
      },
      "outputs": [
        {
          "name": "stdout",
          "output_type": "stream",
          "text": [
            "          city      lat       lon  aqi  aqi_forecast  measurements_PM2.5  \\\n",
            "0      Houston  29.7902  -95.3380   47  [39, 41, 53]                49.5   \n",
            "1      Houston  29.7240  -95.3720   59  [59, 51, 66]                71.2   \n",
            "2  Los Angeles  34.0282 -118.2379   55  [51, 54, 61]                58.4   \n",
            "3     New York  40.7230  -74.0329   40  [39, 50, 45]                25.1   \n",
            "4      Chicago  41.8387  -87.5891   45  [37, 37, 53]                56.8   \n",
            "\n",
            "   measurements_NO2  measurements_O3  weather_temperature  weather_humidity  \\\n",
            "0              49.6             40.5                  5.8                15   \n",
            "1              49.4             43.7                 24.1                24   \n",
            "2              61.6             37.8                  6.1                39   \n",
            "3              47.7             69.8                 12.0                27   \n",
            "4              42.0             23.5                 21.9                32   \n",
            "\n",
            "   weather_wind_speed  \n",
            "0                10.1  \n",
            "1                13.8  \n",
            "2                 4.0  \n",
            "3                13.5  \n",
            "4                10.8  \n",
            "Model trained. Score: 0.9937023625105446\n"
          ]
        }
      ],
      "source": [
        "import pandas as pd\n",
        "\n",
        "with open(\"mock_aqi_large.json\") as f:\n",
        "    data = json.load(f)\n",
        "\n",
        "df = pd.json_normalize(data, sep=\"_\")\n",
        "print(df.head())\n",
        "\n",
        "# Features\n",
        "X = df[[\n",
        "    'measurements_PM2.5','measurements_NO2','measurements_O3',\n",
        "    'weather_temperature','weather_humidity','weather_wind_speed'\n",
        "]]\n",
        "# Target\n",
        "y = df['aqi']\n",
        "\n",
        "# Train a simple regression model\n",
        "from sklearn.model_selection import train_test_split\n",
        "from sklearn.ensemble import RandomForestRegressor\n",
        "\n",
        "X_train, X_test, y_train, y_test = train_test_split(X, y, test_size=0.2, random_state=42)\n",
        "model = RandomForestRegressor(n_estimators=100)\n",
        "model.fit(X_train, y_train)\n",
        "print(\"Model trained. Score:\", model.score(X_test, y_test))\n"
      ]
    },
    {
      "cell_type": "markdown",
      "metadata": {
        "id": "uK4ahM8gWvsP"
      },
      "source": [
        "data preprocessing"
      ]
    },
    {
      "cell_type": "code",
      "execution_count": null,
      "metadata": {
        "id": "KfSwUHftUHpg"
      },
      "outputs": [],
      "source": [
        "def aqi_class(aqi):\n",
        "    if aqi <= 50:\n",
        "        return \"Good\"\n",
        "    elif aqi <= 100:\n",
        "        return \"Moderate\"\n",
        "    elif aqi <= 150:\n",
        "        return \"Unhealthy for SG\"\n",
        "    elif aqi <= 200:\n",
        "        return \"Unhealthy\"\n",
        "    elif aqi <= 300:\n",
        "        return \"Very Unhealthy\"\n",
        "    else:\n",
        "        return \"Hazardous\"\n",
        "\n",
        "df['aqi_class'] = df['aqi'].apply(aqi_class)\n"
      ]
    },
    {
      "cell_type": "markdown",
      "metadata": {
        "id": "Ruh6RCqNW4bY"
      },
      "source": [
        "Encode class labels to integers for ML models:"
      ]
    },
    {
      "cell_type": "code",
      "execution_count": null,
      "metadata": {
        "id": "MUyIwFzCW1cE"
      },
      "outputs": [],
      "source": [
        "from sklearn.preprocessing import LabelEncoder\n",
        "\n",
        "le = LabelEncoder()\n",
        "y = le.fit_transform(df['aqi_class'])"
      ]
    },
    {
      "cell_type": "markdown",
      "metadata": {
        "id": "WoAJJvzRXi_c"
      },
      "source": [
        "XG BOOST CLASSIFIER"
      ]
    },
    {
      "cell_type": "code",
      "execution_count": null,
      "metadata": {
        "colab": {
          "base_uri": "https://localhost:8080/"
        },
        "id": "N26PcruMW5j0",
        "outputId": "8ca0dd72-6d77-4146-c855-ed95e6686523"
      },
      "outputs": [
        {
          "name": "stdout",
          "output_type": "stream",
          "text": [
            "Requirement already satisfied: xgboost in /usr/local/lib/python3.12/dist-packages (3.0.5)\n",
            "Requirement already satisfied: numpy in /usr/local/lib/python3.12/dist-packages (from xgboost) (2.0.2)\n",
            "Requirement already satisfied: nvidia-nccl-cu12 in /usr/local/lib/python3.12/dist-packages (from xgboost) (2.27.3)\n",
            "Requirement already satisfied: scipy in /usr/local/lib/python3.12/dist-packages (from xgboost) (1.16.2)\n"
          ]
        }
      ],
      "source": [
        "!pip install xgboost\n"
      ]
    },
    {
      "cell_type": "code",
      "execution_count": null,
      "metadata": {
        "id": "JHoCO5xNXh-a"
      },
      "outputs": [],
      "source": [
        "import pandas as pd\n",
        "import json\n",
        "from sklearn.model_selection import train_test_split\n",
        "from sklearn.preprocessing import LabelEncoder\n",
        "from sklearn.metrics import classification_report, confusion_matrix\n",
        "import xgboost as xgb\n",
        "import joblib\n"
      ]
    },
    {
      "cell_type": "code",
      "execution_count": null,
      "metadata": {
        "colab": {
          "base_uri": "https://localhost:8080/"
        },
        "id": "uuS-9mxmXmrt",
        "outputId": "0e4b5154-256e-4ec9-e645-ebf4efffddc8"
      },
      "outputs": [
        {
          "name": "stdout",
          "output_type": "stream",
          "text": [
            "Columns: Index(['city', 'lat', 'lon', 'aqi', 'aqi_forecast', 'measurements_PM2.5',\n",
            "       'measurements_NO2', 'measurements_O3', 'weather_temperature',\n",
            "       'weather_humidity', 'weather_wind_speed'],\n",
            "      dtype='object')\n",
            "          city      lat       lon  aqi  aqi_forecast  measurements_PM2.5  \\\n",
            "0      Houston  29.7902  -95.3380   47  [39, 41, 53]                49.5   \n",
            "1      Houston  29.7240  -95.3720   59  [59, 51, 66]                71.2   \n",
            "2  Los Angeles  34.0282 -118.2379   55  [51, 54, 61]                58.4   \n",
            "3     New York  40.7230  -74.0329   40  [39, 50, 45]                25.1   \n",
            "4      Chicago  41.8387  -87.5891   45  [37, 37, 53]                56.8   \n",
            "\n",
            "   measurements_NO2  measurements_O3  weather_temperature  weather_humidity  \\\n",
            "0              49.6             40.5                  5.8                15   \n",
            "1              49.4             43.7                 24.1                24   \n",
            "2              61.6             37.8                  6.1                39   \n",
            "3              47.7             69.8                 12.0                27   \n",
            "4              42.0             23.5                 21.9                32   \n",
            "\n",
            "   weather_wind_speed  \n",
            "0                10.1  \n",
            "1                13.8  \n",
            "2                 4.0  \n",
            "3                13.5  \n",
            "4                10.8  \n"
          ]
        }
      ],
      "source": [
        "# Load mock JSON data\n",
        "with open(\"mock_aqi_large.json\") as f:\n",
        "    data = json.load(f)\n",
        "\n",
        "# Flatten nested JSON for ML\n",
        "df = pd.json_normalize(data, sep=\"_\")\n",
        "print(\"Columns:\", df.columns)\n",
        "print(df.head())\n"
      ]
    },
    {
      "cell_type": "code",
      "execution_count": null,
      "metadata": {
        "colab": {
          "base_uri": "https://localhost:8080/"
        },
        "id": "SUAhOCtJXuet",
        "outputId": "43514dfe-7ee2-4eab-bc9f-424f025633c4"
      },
      "outputs": [
        {
          "name": "stdout",
          "output_type": "stream",
          "text": [
            "   aqi aqi_class\n",
            "0   47      Good\n",
            "1   59  Moderate\n",
            "2   55  Moderate\n",
            "3   40      Good\n",
            "4   45      Good\n"
          ]
        }
      ],
      "source": [
        "# Define AQI classes\n",
        "def aqi_class(aqi):\n",
        "    if aqi <= 50:\n",
        "        return \"Good\"\n",
        "    elif aqi <= 100:\n",
        "        return \"Moderate\"\n",
        "    elif aqi <= 150:\n",
        "        return \"Unhealthy for SG\"\n",
        "    elif aqi <= 200:\n",
        "        return \"Unhealthy\"\n",
        "    elif aqi <= 300:\n",
        "        return \"Very Unhealthy\"\n",
        "    else:\n",
        "        return \"Hazardous\"\n",
        "\n",
        "df['aqi_class'] = df['aqi'].apply(aqi_class)\n",
        "print(df[['aqi','aqi_class']].head())\n"
      ]
    },
    {
      "cell_type": "code",
      "execution_count": null,
      "metadata": {
        "colab": {
          "base_uri": "https://localhost:8080/"
        },
        "id": "dNL3rxI7XwhJ",
        "outputId": "3d6388e7-c059-4ad0-fa74-74c7fe799716"
      },
      "outputs": [
        {
          "name": "stdout",
          "output_type": "stream",
          "text": [
            "Encoded classes: ['Good', 'Moderate']\n"
          ]
        }
      ],
      "source": [
        "le = LabelEncoder()\n",
        "y = le.fit_transform(df['aqi_class'])\n",
        "print(\"Encoded classes:\", list(le.classes_))\n"
      ]
    },
    {
      "cell_type": "code",
      "execution_count": null,
      "metadata": {
        "colab": {
          "base_uri": "https://localhost:8080/"
        },
        "id": "4MpI00MEX2_k",
        "outputId": "4b78063f-8369-4e5c-d215-dfbe51f0a7cc"
      },
      "outputs": [
        {
          "name": "stdout",
          "output_type": "stream",
          "text": [
            "Training samples: 4000\n",
            "Testing samples: 1000\n"
          ]
        }
      ],
      "source": [
        "# Features: pollutant measurements + weather\n",
        "X = df[['measurements_PM2.5', 'measurements_NO2', 'measurements_O3',\n",
        "        'weather_temperature','weather_humidity','weather_wind_speed']]\n",
        "\n",
        "# Split into train and test sets\n",
        "X_train, X_test, y_train, y_test = train_test_split(\n",
        "    X, y, test_size=0.2, random_state=42\n",
        ")\n",
        "\n",
        "print(\"Training samples:\", X_train.shape[0])\n",
        "print(\"Testing samples:\", X_test.shape[0])\n"
      ]
    },
    {
      "cell_type": "code",
      "execution_count": null,
      "metadata": {
        "colab": {
          "base_uri": "https://localhost:8080/"
        },
        "id": "pVCZSV5EX8f9",
        "outputId": "f23c095a-096d-4307-b263-34dfffaa7dd2"
      },
      "outputs": [
        {
          "name": "stderr",
          "output_type": "stream",
          "text": [
            "/usr/local/lib/python3.12/dist-packages/xgboost/training.py:183: UserWarning: [06:01:23] WARNING: /workspace/src/learner.cc:738: \n",
            "Parameters: { \"use_label_encoder\" } are not used.\n",
            "\n",
            "  bst.update(dtrain, iteration=i, fobj=obj)\n"
          ]
        },
        {
          "name": "stdout",
          "output_type": "stream",
          "text": [
            "XGBoost training complete!\n"
          ]
        }
      ],
      "source": [
        "# Initialize XGBoost Classifier\n",
        "xgb_model = xgb.XGBClassifier(\n",
        "    objective='multi:softmax',  # multi-class classification\n",
        "    num_class=len(le.classes_), # number of AQI classes\n",
        "    n_estimators=200,           # number of trees\n",
        "    max_depth=6,                # tree depth\n",
        "    learning_rate=0.1,\n",
        "    random_state=42,\n",
        "    use_label_encoder=False,\n",
        "    eval_metric='mlogloss'      # for multi-class\n",
        ")\n",
        "\n",
        "# Train the model\n",
        "xgb_model.fit(X_train, y_train)\n",
        "\n",
        "print(\"XGBoost training complete!\")\n"
      ]
    },
    {
      "cell_type": "code",
      "execution_count": null,
      "metadata": {
        "colab": {
          "base_uri": "https://localhost:8080/"
        },
        "id": "Zif7yyy9YF_Q",
        "outputId": "67e1e74f-b567-4f94-e290-3c57f17ceda5"
      },
      "outputs": [
        {
          "name": "stdout",
          "output_type": "stream",
          "text": [
            "Classification Report:\n",
            "\n",
            "              precision    recall  f1-score   support\n",
            "\n",
            "        Good       0.99      0.99      0.99       747\n",
            "    Moderate       0.97      0.97      0.97       253\n",
            "\n",
            "    accuracy                           0.99      1000\n",
            "   macro avg       0.98      0.98      0.98      1000\n",
            "weighted avg       0.99      0.99      0.99      1000\n",
            "\n",
            "Confusion Matrix:\n",
            " [[740   7]\n",
            " [  7 246]]\n"
          ]
        }
      ],
      "source": [
        "# Predict on test set\n",
        "y_pred = xgb_model.predict(X_test)\n",
        "\n",
        "# Classification report\n",
        "print(\"Classification Report:\\n\")\n",
        "# Provide the unique labels present in y_test to avoid the ValueError\n",
        "print(classification_report(y_test, y_pred, target_names=le.classes_, labels=le.transform(le.classes_)))\n",
        "\n",
        "# Optional: Confusion matrix\n",
        "cm = confusion_matrix(y_test, y_pred)\n",
        "print(\"Confusion Matrix:\\n\", cm)"
      ]
    },
    {
      "cell_type": "markdown",
      "metadata": {
        "id": "HTKGCKchYVyI"
      },
      "source": [
        "RFC"
      ]
    },
    {
      "cell_type": "code",
      "execution_count": null,
      "metadata": {
        "id": "zUDau-knYW63"
      },
      "outputs": [],
      "source": [
        "from sklearn.ensemble import RandomForestClassifier\n",
        "\n",
        "# Initialize Random Forest\n",
        "rfc_model = RandomForestClassifier(\n",
        "    n_estimators=200,    # number of trees\n",
        "    max_depth=None,      # let trees grow until all leaves are pure\n",
        "    random_state=42,\n",
        "    n_jobs=-1            # use all CPU cores\n",
        ")\n"
      ]
    },
    {
      "cell_type": "code",
      "execution_count": null,
      "metadata": {
        "colab": {
          "base_uri": "https://localhost:8080/"
        },
        "id": "d8w-_NRkYagq",
        "outputId": "7fcf1438-a011-466a-f4c8-5dd4e9ce9585"
      },
      "outputs": [
        {
          "name": "stdout",
          "output_type": "stream",
          "text": [
            "Random Forest training complete!\n"
          ]
        }
      ],
      "source": [
        "rfc_model.fit(X_train, y_train)\n",
        "print(\"Random Forest training complete!\")\n"
      ]
    },
    {
      "cell_type": "code",
      "execution_count": null,
      "metadata": {
        "colab": {
          "base_uri": "https://localhost:8080/"
        },
        "id": "sR4NjqP0YhAd",
        "outputId": "550e86b1-59f0-4af8-9982-c23172fbfbaf"
      },
      "outputs": [
        {
          "name": "stdout",
          "output_type": "stream",
          "text": [
            "Random Forest Classification Report:\n",
            "\n",
            "              precision    recall  f1-score   support\n",
            "\n",
            "        Good       0.98      0.99      0.98       747\n",
            "    Moderate       0.97      0.94      0.95       253\n",
            "\n",
            "    accuracy                           0.98      1000\n",
            "   macro avg       0.98      0.96      0.97      1000\n",
            "weighted avg       0.98      0.98      0.98      1000\n",
            "\n",
            "Confusion Matrix:\n",
            " [[740   7]\n",
            " [ 16 237]]\n"
          ]
        }
      ],
      "source": [
        "# Predict on test set\n",
        "y_pred_rfc = rfc_model.predict(X_test)\n",
        "\n",
        "# Classification report\n",
        "from sklearn.metrics import classification_report, confusion_matrix\n",
        "print(\"Random Forest Classification Report:\\n\")\n",
        "print(classification_report(y_test, y_pred_rfc, target_names=le.classes_, labels=le.transform(le.classes_)))\n",
        "\n",
        "# Optional: Confusion matrix\n",
        "cm_rfc = confusion_matrix(y_test, y_pred_rfc)\n",
        "print(\"Confusion Matrix:\\n\", cm_rfc)"
      ]
    },
    {
      "cell_type": "code",
      "execution_count": null,
      "metadata": {
        "colab": {
          "base_uri": "https://localhost:8080/"
        },
        "id": "VPKEkf_nYm-R",
        "outputId": "52c2be2e-fe14-4e1e-b166-28ec188c830a"
      },
      "outputs": [
        {
          "name": "stdout",
          "output_type": "stream",
          "text": [
            "XGBoost model saved as aqi_classifier_xgb.pkl\n",
            "Random Forest model saved as aqi_classifier_rfc.pkl\n",
            "Label encoder saved as aqi_label_encoder.pkl\n"
          ]
        }
      ],
      "source": [
        "import joblib\n",
        "\n",
        "# Save XGBoost model\n",
        "joblib.dump(xgb_model, \"aqi_classifier_xgb.pkl\")\n",
        "print(\"XGBoost model saved as aqi_classifier_xgb.pkl\")\n",
        "\n",
        "# Save Random Forest model\n",
        "joblib.dump(rfc_model, \"aqi_classifier_rfc.pkl\")\n",
        "print(\"Random Forest model saved as aqi_classifier_rfc.pkl\")\n",
        "\n",
        "# Save the LabelEncoder as well for decoding class predictions\n",
        "joblib.dump(le, \"aqi_label_encoder.pkl\")\n",
        "print(\"Label encoder saved as aqi_label_encoder.pkl\")\n"
      ]
    },
    {
      "cell_type": "markdown",
      "metadata": {
        "id": "RYR0bSHIZDrm"
      },
      "source": [
        "Generate Predictions & Prepare Backend JSON"
      ]
    },
    {
      "cell_type": "code",
      "execution_count": null,
      "metadata": {
        "id": "sHJO_kx-ZBkf"
      },
      "outputs": [],
      "source": [
        "import joblib\n",
        "\n",
        "# Load the best model (XGBoost or Random Forest)\n",
        "model = joblib.load(\"aqi_classifier_xgb.pkl\")  # or rfc_model\n",
        "le = joblib.load(\"aqi_label_encoder.pkl\")\n"
      ]
    },
    {
      "cell_type": "markdown",
      "metadata": {
        "id": "EsFV6-i1ZLiS"
      },
      "source": [
        "preparunf features for all stations"
      ]
    },
    {
      "cell_type": "code",
      "execution_count": null,
      "metadata": {
        "id": "Mvp7hHdsZPWG"
      },
      "outputs": [],
      "source": [
        "X_all = df[['measurements_PM2.5', 'measurements_NO2', 'measurements_O3',\n",
        "            'weather_temperature','weather_humidity','weather_wind_speed']]\n"
      ]
    },
    {
      "cell_type": "markdown",
      "metadata": {
        "id": "9HarOuvnZW6h"
      },
      "source": [
        "predict AQI classes"
      ]
    },
    {
      "cell_type": "code",
      "execution_count": null,
      "metadata": {
        "id": "VyrYmyySZRgb"
      },
      "outputs": [],
      "source": [
        "# Predict numeric labels\n",
        "pred_labels = model.predict(X_all)\n",
        "\n",
        "# Convert numeric labels back to AQI class names\n",
        "pred_classes = le.inverse_transform(pred_labels)\n",
        "\n",
        "# Add predictions to dataframe\n",
        "df['predicted_aqi_class'] = pred_classes\n"
      ]
    },
    {
      "cell_type": "markdown",
      "metadata": {
        "id": "V_8550AaZcsc"
      },
      "source": [
        "disease specific alerts"
      ]
    },
    {
      "cell_type": "code",
      "execution_count": null,
      "metadata": {
        "id": "z6vs-hTLZUG0"
      },
      "outputs": [],
      "source": [
        "def generate_alerts(aqi_class):\n",
        "    alerts = {\n",
        "        \"asthma\": False,\n",
        "        \"cardio\": False,\n",
        "        \"copd\": False\n",
        "    }\n",
        "    if aqi_class in [\"Unhealthy for SG\", \"Unhealthy\", \"Very Unhealthy\", \"Hazardous\"]:\n",
        "        alerts[\"asthma\"] = True\n",
        "    if aqi_class in [\"Unhealthy\", \"Very Unhealthy\", \"Hazardous\"]:\n",
        "        alerts[\"cardio\"] = True\n",
        "    if aqi_class in [\"Unhealthy for SG\", \"Unhealthy\", \"Very Unhealthy\", \"Hazardous\"]:\n",
        "        alerts[\"copd\"] = True\n",
        "    return alerts\n",
        "\n",
        "df['alerts'] = df['predicted_aqi_class'].apply(generate_alerts)\n"
      ]
    },
    {
      "cell_type": "markdown",
      "metadata": {
        "id": "oYAHBNg1ZkSl"
      },
      "source": [
        "prepapring JSON for frontent"
      ]
    },
    {
      "cell_type": "code",
      "execution_count": null,
      "metadata": {
        "colab": {
          "base_uri": "https://localhost:8080/"
        },
        "id": "nio_NzRGZisa",
        "outputId": "46175024-1762-4f5b-96e6-d5dbc5bdf475"
      },
      "outputs": [
        {
          "name": "stdout",
          "output_type": "stream",
          "text": [
            "Backend JSON saved! Ready for frontend map.\n"
          ]
        }
      ],
      "source": [
        "# Select relevant columns for map / alerts\n",
        "json_data = df[['city', 'lat', 'lon', 'measurements_PM2.5', 'measurements_NO2', 'measurements_O3',\n",
        "                'weather_temperature','weather_humidity','weather_wind_speed',\n",
        "                'predicted_aqi_class','alerts']]\n",
        "\n",
        "# Convert to JSON\n",
        "backend_json = json_data.to_dict(orient='records')\n",
        "\n",
        "# Save as file\n",
        "with open(\"predicted_aqi_for_map.json\", \"w\") as f:\n",
        "    json.dump(backend_json, f, indent=4)\n",
        "\n",
        "print(\"Backend JSON saved! Ready for frontend map.\")\n"
      ]
    },
    {
      "cell_type": "markdown",
      "metadata": {
        "id": "XGT9KSIFadAj"
      },
      "source": [
        "Serve the JSON as a dynamic file"
      ]
    },
    {
      "cell_type": "code",
      "execution_count": null,
      "metadata": {
        "colab": {
          "base_uri": "https://localhost:8080/"
        },
        "id": "wQaf_Jqnm-yo",
        "outputId": "7b8e7134-76a9-4d14-9ab9-e89d8edca629"
      },
      "outputs": [
        {
          "name": "stdout",
          "output_type": "stream",
          "text": [
            "Requirement already satisfied: pyngrok in /usr/local/lib/python3.12/dist-packages (7.4.0)\n",
            "Requirement already satisfied: requests in /usr/local/lib/python3.12/dist-packages (2.32.4)\n",
            "Requirement already satisfied: PyYAML>=5.1 in /usr/local/lib/python3.12/dist-packages (from pyngrok) (6.0.3)\n",
            "Requirement already satisfied: charset_normalizer<4,>=2 in /usr/local/lib/python3.12/dist-packages (from requests) (3.4.3)\n",
            "Requirement already satisfied: idna<4,>=2.5 in /usr/local/lib/python3.12/dist-packages (from requests) (3.10)\n",
            "Requirement already satisfied: urllib3<3,>=1.21.1 in /usr/local/lib/python3.12/dist-packages (from requests) (2.5.0)\n",
            "Requirement already satisfied: certifi>=2017.4.17 in /usr/local/lib/python3.12/dist-packages (from requests) (2025.8.3)\n"
          ]
        }
      ],
      "source": [
        "!pip install pyngrok requests\n"
      ]
    },
    {
      "cell_type": "code",
      "execution_count": null,
      "metadata": {
        "colab": {
          "base_uri": "https://localhost:8080/"
        },
        "id": "iTs9kUfpnGtf",
        "outputId": "e4a85465-8b1c-4ee8-cf2c-30e36ccaa251"
      },
      "outputs": [
        {
          "name": "stdout",
          "output_type": "stream",
          "text": [
            "Authtoken saved to configuration file: /root/.config/ngrok/ngrok.yml\n"
          ]
        }
      ],
      "source": [
        "from pyngrok import ngrok\n",
        "import threading, http.server, socketserver, requests, json, time\n",
        "\n",
        "# Replace with your auth token from https://dashboard.ngrok.com/get-started/your-authtoken\n",
        "!ngrok config add-authtoken 33bF5Vibwq9gPTmS1JGJXVSsCSa_7df4j1v9EKkexXGzmWYqg\n"
      ]
    },
    {
      "cell_type": "code",
      "execution_count": null,
      "metadata": {
        "id": "sxerGP-cnKK0"
      },
      "outputs": [],
      "source": [
        "API_KEY = \"D7D8577B-A57E-4ED7-8EF2-A10DD9EBAD16\"\n",
        "LAT, LON = 40.7128, -74.0060  # Example: New York City\n",
        "\n",
        "def fetch_air_quality():\n",
        "    \"\"\"Fetches air quality data from OpenWeatherMap and saves it locally.\"\"\"\n",
        "    try:\n",
        "        url = f\"http://api.openweathermap.org/data/2.5/air_pollution?lat={LAT}&lon={LON}&appid={API_KEY}\"\n",
        "        response = requests.get(url)\n",
        "        data = response.json()\n",
        "\n",
        "        # Add timestamp\n",
        "        data[\"timestamp\"] = time.strftime(\"%Y-%m-%d %H:%M:%S\", time.localtime())\n",
        "\n",
        "        # Save JSON\n",
        "        with open(\"predicted_aqi_for_map.json\", \"w\") as f:\n",
        "            json.dump(data, f, indent=2)\n",
        "        print(f\"✅ Updated JSON at {data['timestamp']}\")\n",
        "\n",
        "    except Exception as e:\n",
        "        print(f\"❌ Error updating data: {e}\")\n"
      ]
    },
    {
      "cell_type": "code",
      "execution_count": null,
      "metadata": {
        "colab": {
          "base_uri": "https://localhost:8080/"
        },
        "id": "NtUJL2ZDnMbF",
        "outputId": "e0e732f8-2cd4-4b1e-a313-2586a79f33d4"
      },
      "outputs": [
        {
          "name": "stdout",
          "output_type": "stream",
          "text": [
            "⏳ Auto-update thread started... Fetching data hourly!\n"
          ]
        }
      ],
      "source": [
        "def auto_update(interval=3600):  # 3600 seconds = 1 hour\n",
        "    while True:\n",
        "        fetch_air_quality()\n",
        "        time.sleep(interval)\n",
        "\n",
        "# Run the scheduler in background\n",
        "threading.Thread(target=auto_update, daemon=True).start()\n",
        "print(\"⏳ Auto-update thread started... Fetching data hourly!\")\n"
      ]
    },
    {
      "cell_type": "code",
      "execution_count": null,
      "metadata": {
        "colab": {
          "base_uri": "https://localhost:8080/"
        },
        "id": "a2485f4f",
        "outputId": "18750ccd-7233-49aa-ab0c-7b4d2479ea9c"
      },
      "outputs": [
        {
          "name": "stdout",
          "output_type": "stream",
          "text": [
            "Requirement already satisfied: flask-ngrok in /usr/local/lib/python3.12/dist-packages (0.0.25)\n",
            "Requirement already satisfied: Flask>=0.8 in /usr/local/lib/python3.12/dist-packages (from flask-ngrok) (3.1.2)\n",
            "Requirement already satisfied: requests in /usr/local/lib/python3.12/dist-packages (from flask-ngrok) (2.32.4)\n",
            "Requirement already satisfied: blinker>=1.9.0 in /usr/local/lib/python3.12/dist-packages (from Flask>=0.8->flask-ngrok) (1.9.0)\n",
            "Requirement already satisfied: click>=8.1.3 in /usr/local/lib/python3.12/dist-packages (from Flask>=0.8->flask-ngrok) (8.3.0)\n",
            "Requirement already satisfied: itsdangerous>=2.2.0 in /usr/local/lib/python3.12/dist-packages (from Flask>=0.8->flask-ngrok) (2.2.0)\n",
            "Requirement already satisfied: jinja2>=3.1.2 in /usr/local/lib/python3.12/dist-packages (from Flask>=0.8->flask-ngrok) (3.1.6)\n",
            "Requirement already satisfied: markupsafe>=2.1.1 in /usr/local/lib/python3.12/dist-packages (from Flask>=0.8->flask-ngrok) (3.0.3)\n",
            "Requirement already satisfied: werkzeug>=3.1.0 in /usr/local/lib/python3.12/dist-packages (from Flask>=0.8->flask-ngrok) (3.1.3)\n",
            "Requirement already satisfied: charset_normalizer<4,>=2 in /usr/local/lib/python3.12/dist-packages (from requests->flask-ngrok) (3.4.3)\n",
            "Requirement already satisfied: idna<4,>=2.5 in /usr/local/lib/python3.12/dist-packages (from requests->flask-ngrok) (3.10)\n",
            "Requirement already satisfied: urllib3<3,>=1.21.1 in /usr/local/lib/python3.12/dist-packages (from requests->flask-ngrok) (2.5.0)\n",
            "Requirement already satisfied: certifi>=2017.4.17 in /usr/local/lib/python3.12/dist-packages (from requests->flask-ngrok) (2025.8.3)\n"
          ]
        }
      ],
      "source": [
        "!pip install flask-ngrok"
      ]
    },
    {
      "cell_type": "code",
      "execution_count": null,
      "metadata": {
        "colab": {
          "base_uri": "https://localhost:8080/"
        },
        "id": "jGrtTNK2BqMR",
        "outputId": "d33c1b5d-e132-4ad2-8191-da00fec78d05"
      },
      "outputs": [
        {
          "name": "stdout",
          "output_type": "stream",
          "text": [
            "Requirement already satisfied: flask in /usr/local/lib/python3.12/dist-packages (3.1.2)\n",
            "Requirement already satisfied: flask-cors in /usr/local/lib/python3.12/dist-packages (6.0.1)\n",
            "Requirement already satisfied: pyngrok in /usr/local/lib/python3.12/dist-packages (7.4.0)\n",
            "Requirement already satisfied: blinker>=1.9.0 in /usr/local/lib/python3.12/dist-packages (from flask) (1.9.0)\n",
            "Requirement already satisfied: click>=8.1.3 in /usr/local/lib/python3.12/dist-packages (from flask) (8.3.0)\n",
            "Requirement already satisfied: itsdangerous>=2.2.0 in /usr/local/lib/python3.12/dist-packages (from flask) (2.2.0)\n",
            "Requirement already satisfied: jinja2>=3.1.2 in /usr/local/lib/python3.12/dist-packages (from flask) (3.1.6)\n",
            "Requirement already satisfied: markupsafe>=2.1.1 in /usr/local/lib/python3.12/dist-packages (from flask) (3.0.3)\n",
            "Requirement already satisfied: werkzeug>=3.1.0 in /usr/local/lib/python3.12/dist-packages (from flask) (3.1.3)\n",
            "Requirement already satisfied: PyYAML>=5.1 in /usr/local/lib/python3.12/dist-packages (from pyngrok) (6.0.3)\n"
          ]
        }
      ],
      "source": [
        "!pip install flask flask-cors pyngrok\n"
      ]
    },
    {
      "cell_type": "code",
      "execution_count": null,
      "metadata": {
        "colab": {
          "base_uri": "https://localhost:8080/"
        },
        "id": "SaBLpMK9BtCq",
        "outputId": "8203afc1-d4b7-4e16-cac5-c10a355593de"
      },
      "outputs": [
        {
          "name": "stdout",
          "output_type": "stream",
          "text": [
            "Public URL: NgrokTunnel: \"https://waggly-extralegal-kurt.ngrok-free.dev\" -> \"http://localhost:5000\"\n",
            " * Serving Flask app '__main__'\n",
            " * Debug mode: off\n"
          ]
        },
        {
          "name": "stderr",
          "output_type": "stream",
          "text": [
            "INFO:werkzeug:\u001b[31m\u001b[1mWARNING: This is a development server. Do not use it in a production deployment. Use a production WSGI server instead.\u001b[0m\n",
            " * Running on http://127.0.0.1:5000\n",
            "INFO:werkzeug:\u001b[33mPress CTRL+C to quit\u001b[0m\n",
            "INFO:werkzeug:127.0.0.1 - - [05/Oct/2025 06:03:12] \"\u001b[33mGET /airquality HTTP/1.1\u001b[0m\" 404 -\n"
          ]
        }
      ],
      "source": [
        "from flask import Flask, jsonify, request\n",
        "from flask_cors import CORS\n",
        "from pyngrok import ngrok\n",
        "\n",
        "app = Flask(__name__)\n",
        "CORS(app)  # allows React frontend to call API\n",
        "\n",
        "# Expose localhost to internet\n",
        "public_url = ngrok.connect(5000)\n",
        "print(\"Public URL:\", public_url)\n",
        "\n",
        "# Sample GET endpoint\n",
        "@app.route(\"/getData\", methods=[\"GET\"])\n",
        "def get_data():\n",
        "    return jsonify({\"message\": \"Backend is working!\"})\n",
        "\n",
        "# Sample POST endpoint\n",
        "@app.route(\"/postData\", methods=[\"POST\"])\n",
        "def post_data():\n",
        "    data = request.json\n",
        "    return jsonify({\"status\": \"success\", \"received\": data})\n",
        "\n",
        "# Run Flask app\n",
        "app.run(port=5000)\n"
      ]
    }
  ],
  "metadata": {
    "colab": {
      "provenance": []
    },
    "kernelspec": {
      "display_name": "Python 3",
      "name": "python3"
    },
    "language_info": {
      "name": "python"
    }
  },
  "nbformat": 4,
  "nbformat_minor": 0
}
